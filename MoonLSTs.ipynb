{
 "cells": [
  {
   "cell_type": "code",
   "execution_count": 1,
   "metadata": {
    "ExecuteTime": {
     "end_time": "2018-08-13T17:44:02.500428Z",
     "start_time": "2018-08-13T17:43:56.647241Z"
    }
   },
   "outputs": [],
   "source": [
    "from pyuvdata import UVData\n",
    "import numpy as np\n",
    "from itertools import compress\n",
    "import ephem"
   ]
  },
  {
   "cell_type": "code",
   "execution_count": 2,
   "metadata": {
    "ExecuteTime": {
     "end_time": "2018-08-13T17:44:31.773207Z",
     "start_time": "2018-08-13T17:44:03.480282Z"
    },
    "code_folding": []
   },
   "outputs": [],
   "source": [
    "#Specifying path to the Moon location file\n",
    "path55 = '/data6/HERA/data/2458055/zen.2458055.20754.xx.HH.uv'\n",
    "uvd = UVData()\n",
    "uvd.read_miriad(path55)"
   ]
  },
  {
   "cell_type": "code",
   "execution_count": 3,
   "metadata": {
    "ExecuteTime": {
     "end_time": "2018-08-13T17:44:31.795774Z",
     "start_time": "2018-08-13T17:44:31.780388Z"
    }
   },
   "outputs": [
    {
     "name": "stdout",
     "output_type": "stream",
     "text": [
      "60\n"
     ]
    }
   ],
   "source": [
    "lst55 = uvd.lst_array\n",
    "print len(np.unique(uvd.time_array))"
   ]
  },
  {
   "cell_type": "code",
   "execution_count": 6,
   "metadata": {
    "ExecuteTime": {
     "end_time": "2018-07-19T23:18:46.325184Z",
     "start_time": "2018-07-19T23:18:46.319784Z"
    },
    "scrolled": false
   },
   "outputs": [
    {
     "name": "stdout",
     "output_type": "stream",
     "text": [
      "The LSTs for 2458055.20754 are: [5.46932389 5.46932389 5.46932389 ... 5.51552001 5.51552001 5.51552001]\n",
      "67680\n"
     ]
    }
   ],
   "source": [
    "print \"The LSTs for 2458055.20754 are:\", lst55\n",
    "print len(lst55)"
   ]
  },
  {
   "cell_type": "code",
   "execution_count": 7,
   "metadata": {
    "ExecuteTime": {
     "end_time": "2018-07-19T23:19:15.764205Z",
     "start_time": "2018-07-19T23:18:46.329087Z"
    },
    "code_folding": [],
    "scrolled": true
   },
   "outputs": [],
   "source": [
    "#Specifying path to a file w/o the Moon with matching LSTs\n",
    "path42 = '/data6/HERA/data/2458042/zen.2458042.16280.xx.HH.uv'\n",
    "uvd2 = UVData()\n",
    "uvd2.read_miriad(path42)"
   ]
  },
  {
   "cell_type": "code",
   "execution_count": 8,
   "metadata": {
    "ExecuteTime": {
     "end_time": "2018-07-19T23:19:15.773074Z",
     "start_time": "2018-07-19T23:19:15.768311Z"
    }
   },
   "outputs": [
    {
     "name": "stdout",
     "output_type": "stream",
     "text": [
      "67680\n"
     ]
    }
   ],
   "source": [
    "lst42 = uvd2.lst_array\n",
    "print len(lst42)"
   ]
  },
  {
   "cell_type": "code",
   "execution_count": 9,
   "metadata": {
    "ExecuteTime": {
     "end_time": "2018-07-19T23:19:15.781808Z",
     "start_time": "2018-07-19T23:19:15.776984Z"
    }
   },
   "outputs": [
    {
     "name": "stdout",
     "output_type": "stream",
     "text": [
      "The LSTs for 2458028 are: [4.96384723 4.96384723 4.96384723 ... 5.01004334 5.01004334 5.01004334]\n"
     ]
    }
   ],
   "source": [
    "print \"The LSTs for 2458028 are:\", lst42"
   ]
  },
  {
   "cell_type": "code",
   "execution_count": 10,
   "metadata": {
    "ExecuteTime": {
     "end_time": "2018-07-19T23:19:15.861671Z",
     "start_time": "2018-07-19T23:19:15.785663Z"
    },
    "code_folding": []
   },
   "outputs": [],
   "source": [
    "#Setting up for loops for boolean selection list\n",
    "bool_list55 = []\n",
    "for i in lst55:\n",
    "    if i <= lst42[0]:\n",
    "        bool_list55.append(False)\n",
    "    else:\n",
    "        bool_list55.append(True)\n",
    "        \n",
    "bool_list42 =[]\n",
    "for j in lst42:\n",
    "    if j > lst55[-1]:\n",
    "        bool_list42.append(False)\n",
    "    else:\n",
    "        bool_list42.append(True)"
   ]
  },
  {
   "cell_type": "code",
   "execution_count": 11,
   "metadata": {
    "ExecuteTime": {
     "end_time": "2018-07-19T23:19:15.869812Z",
     "start_time": "2018-07-19T23:19:15.865656Z"
    }
   },
   "outputs": [],
   "source": [
    "#print bool_list55\n",
    "#print bool_list42"
   ]
  },
  {
   "cell_type": "code",
   "execution_count": 12,
   "metadata": {
    "ExecuteTime": {
     "end_time": "2018-07-19T23:19:15.888669Z",
     "start_time": "2018-07-19T23:19:15.873873Z"
    },
    "scrolled": true
   },
   "outputs": [
    {
     "name": "stdout",
     "output_type": "stream",
     "text": [
      "First entry of lst55: 5.4693238924819205 Last entry of lst55: 5.515520005899347 with length of: 67680\n",
      "First entry of lst42: 4.963847231328155 Last entry of lst42: 5.010043339552727 with length of: 67680\n"
     ]
    }
   ],
   "source": [
    "#Selecting out data from LST list\n",
    "selection55 = list(compress(lst55, bool_list55))\n",
    "selection42 = list(compress(lst42, bool_list42))\n",
    "\n",
    "print \"First entry of lst55:\", selection55[0], \"Last entry of lst55:\", selection55[-1], \"with length of:\", len(selection55)\n",
    "print \"First entry of lst42:\", selection42[0], \"Last entry of lst42:\", selection42[-1], \"with length of:\", len(selection42)"
   ]
  },
  {
   "cell_type": "code",
   "execution_count": 13,
   "metadata": {
    "ExecuteTime": {
     "end_time": "2018-07-19T23:19:15.907917Z",
     "start_time": "2018-07-19T23:19:15.892635Z"
    }
   },
   "outputs": [],
   "source": [
    "#Selecting times from time array ussing the boolean list\n",
    "selecttime55 = list(compress(uvd.time_array, bool_list55))\n",
    "selecttime42 = list(compress(uvd2.time_array, bool_list42))"
   ]
  },
  {
   "cell_type": "code",
   "execution_count": 14,
   "metadata": {
    "ExecuteTime": {
     "end_time": "2018-07-19T23:19:15.928424Z",
     "start_time": "2018-07-19T23:19:15.912203Z"
    }
   },
   "outputs": [
    {
     "name": "stdout",
     "output_type": "stream",
     "text": [
      "First entry of selecttime55: 2458055.207536992 Last entry of selecttime55: 2458055.214869257 with length of: 67680\n",
      "First entry of selecttime42: 2458042.1628026194 Last entry of selecttime42: 2458042.170134884 with length of: 67680\n",
      "60\n"
     ]
    }
   ],
   "source": [
    "print \"First entry of selecttime55:\", selecttime55[0], \"Last entry of selecttime55:\", selecttime55[-1], \"with length of:\", len(selecttime55)\n",
    "print \"First entry of selecttime42:\", selecttime42[0], \"Last entry of selecttime42:\", selecttime42[-1], \"with length of:\", len(selecttime42)\n",
    "print len(np.unique(selecttime55))\n"
   ]
  },
  {
   "cell_type": "code",
   "execution_count": 15,
   "metadata": {
    "ExecuteTime": {
     "end_time": "2018-07-19T23:19:17.899337Z",
     "start_time": "2018-07-19T23:19:15.932339Z"
    }
   },
   "outputs": [
    {
     "name": "stdout",
     "output_type": "stream",
     "text": [
      "Before selection, the length of uvd time array is: 67680\n",
      "Before selection, the length of uvd2 time array is: 67680\n",
      "After selection, the length of uvd time array is: 67680\n",
      "After selection, the length of uvd2 time array is: 67680\n",
      "60\n"
     ]
    }
   ],
   "source": [
    "print \"Before selection, the length of uvd time array is:\",len(uvd.time_array)\n",
    "print \"Before selection, the length of uvd2 time array is:\",len(uvd2.time_array)\n",
    "\n",
    "selecttime55 = np.unique(selecttime55)\n",
    "selecttime42 = np.unique(selecttime42)\n",
    "\n",
    "#Editing the uvd times with our time selection list\n",
    "uvd.select(times=selecttime55)\n",
    "uvd2.select(times=selecttime42)\n",
    "\n",
    "print \"After selection, the length of uvd time array is:\",len(uvd.time_array)\n",
    "print \"After selection, the length of uvd2 time array is:\",len(uvd2.time_array)\n",
    "print len(np.unique(uvd.time_array))"
   ]
  },
  {
   "cell_type": "code",
   "execution_count": 16,
   "metadata": {
    "ExecuteTime": {
     "end_time": "2018-07-19T23:19:17.908341Z",
     "start_time": "2018-07-19T23:19:17.903683Z"
    }
   },
   "outputs": [],
   "source": [
    "zenithdec = uvd.zenith_dec[len(selecttime55)/2]"
   ]
  },
  {
   "cell_type": "code",
   "execution_count": 17,
   "metadata": {
    "ExecuteTime": {
     "end_time": "2018-07-19T23:19:17.916891Z",
     "start_time": "2018-07-19T23:19:17.912311Z"
    }
   },
   "outputs": [],
   "source": [
    "zenithra = uvd.zenith_ra[len(selecttime55)/2]"
   ]
  },
  {
   "cell_type": "code",
   "execution_count": 18,
   "metadata": {
    "ExecuteTime": {
     "end_time": "2018-07-19T23:19:25.266544Z",
     "start_time": "2018-07-19T23:19:17.920956Z"
    }
   },
   "outputs": [],
   "source": [
    "uvd.phase(zenithra,zenithdec,ephem.J2000)"
   ]
  },
  {
   "cell_type": "code",
   "execution_count": 19,
   "metadata": {
    "ExecuteTime": {
     "end_time": "2018-07-19T23:19:33.748501Z",
     "start_time": "2018-07-19T23:19:25.270776Z"
    }
   },
   "outputs": [],
   "source": [
    "uvd2.phase(zenithra,zenithdec,ephem.J2000)"
   ]
  },
  {
   "cell_type": "code",
   "execution_count": 20,
   "metadata": {
    "ExecuteTime": {
     "end_time": "2018-07-19T23:19:33.756930Z",
     "start_time": "2018-07-19T23:19:33.752615Z"
    }
   },
   "outputs": [],
   "source": [
    "#cd /data6/HERA/HERA_imaging/jeanimport/"
   ]
  },
  {
   "cell_type": "code",
   "execution_count": 21,
   "metadata": {
    "ExecuteTime": {
     "end_time": "2018-07-19T23:19:33.765095Z",
     "start_time": "2018-07-19T23:19:33.760885Z"
    }
   },
   "outputs": [],
   "source": [
    "#uvd.write_uvfits(\"805512552.uvfits\", spoof_nonessential=True)"
   ]
  },
  {
   "cell_type": "code",
   "execution_count": 22,
   "metadata": {
    "ExecuteTime": {
     "end_time": "2018-07-19T23:19:33.772040Z",
     "start_time": "2018-07-19T23:19:33.769066Z"
    }
   },
   "outputs": [],
   "source": [
    "#uvd2.write_uvfits(\"804216280.uvfits\", spoof_nonessential=True)"
   ]
  },
  {
   "cell_type": "code",
   "execution_count": 23,
   "metadata": {
    "ExecuteTime": {
     "end_time": "2018-07-19T23:19:33.792809Z",
     "start_time": "2018-07-19T23:19:33.775909Z"
    }
   },
   "outputs": [
    {
     "data": {
      "text/plain": [
       "5.469303152011205"
      ]
     },
     "execution_count": 23,
     "metadata": {},
     "output_type": "execute_result"
    }
   ],
   "source": [
    "zenithra"
   ]
  },
  {
   "cell_type": "code",
   "execution_count": 5,
   "metadata": {
    "ExecuteTime": {
     "end_time": "2018-08-13T17:45:37.183871Z",
     "start_time": "2018-08-13T17:45:37.175829Z"
    }
   },
   "outputs": [
    {
     "data": {
      "text/plain": [
       "47"
      ]
     },
     "execution_count": 5,
     "metadata": {},
     "output_type": "execute_result"
    }
   ],
   "source": [
    "len(uvd.antenna_numbers)"
   ]
  },
  {
   "cell_type": "code",
   "execution_count": 9,
   "metadata": {
    "ExecuteTime": {
     "end_time": "2018-08-13T17:50:55.318931Z",
     "start_time": "2018-08-13T17:50:55.310715Z"
    }
   },
   "outputs": [
    {
     "data": {
      "text/plain": [
       "47"
      ]
     },
     "execution_count": 9,
     "metadata": {},
     "output_type": "execute_result"
    }
   ],
   "source": [
    "len(uvd.antenna_diameters)"
   ]
  },
  {
   "cell_type": "code",
   "execution_count": 8,
   "metadata": {
    "ExecuteTime": {
     "end_time": "2018-08-13T17:47:00.721859Z",
     "start_time": "2018-08-13T17:47:00.705621Z"
    }
   },
   "outputs": [
    {
     "data": {
      "text/plain": [
       "153.93804002589985"
      ]
     },
     "execution_count": 8,
     "metadata": {},
     "output_type": "execute_result"
    }
   ],
   "source": [
    "np.pi*((uvd.antenna_diameters[0]/2.0)**2)"
   ]
  },
  {
   "cell_type": "code",
   "execution_count": 10,
   "metadata": {
    "ExecuteTime": {
     "end_time": "2018-08-13T20:33:20.251143Z",
     "start_time": "2018-08-13T20:33:20.243914Z"
    }
   },
   "outputs": [
    {
     "data": {
      "text/plain": [
       "97656.25"
      ]
     },
     "execution_count": 10,
     "metadata": {},
     "output_type": "execute_result"
    }
   ],
   "source": [
    "uvd.channel_width"
   ]
  },
  {
   "cell_type": "code",
   "execution_count": null,
   "metadata": {},
   "outputs": [],
   "source": []
  }
 ],
 "metadata": {
  "kernelspec": {
   "display_name": "Python 2",
   "language": "python",
   "name": "python2"
  },
  "language_info": {
   "codemirror_mode": {
    "name": "ipython",
    "version": 2
   },
   "file_extension": ".py",
   "mimetype": "text/x-python",
   "name": "python",
   "nbconvert_exporter": "python",
   "pygments_lexer": "ipython2",
   "version": "2.7.14"
  }
 },
 "nbformat": 4,
 "nbformat_minor": 2
}
